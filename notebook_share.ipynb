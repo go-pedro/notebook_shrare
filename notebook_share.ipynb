{
 "cells": [
  {
   "cell_type": "code",
   "execution_count": 1,
   "metadata": {},
   "outputs": [
    {
     "name": "stdout",
     "output_type": "stream",
     "text": [
      "flow= 0.0566336932 [m3/s]\n",
      "pressure_1= -33863.9 [Pa]\n",
      "pressure_2= 137895.1458 [Pa]\n",
      "z1= -0.6096 [m]\n",
      "z2= 1.524 [m]\n",
      "a1= 0.018241469247509915 [m2]\n",
      "v1= 3.1046673067593438 [m/s]\n",
      "a2= 0.008107319665559963 [m2]\n",
      "v2= 6.985501440208523 [m/s]\n",
      "equation result (check only)= -3.552713678800501e-15\n",
      "pump height required= 27.16702304958529 [m]\n",
      "pump shaft power= 11923.754719358594 [W]\n",
      "pump shaft power= 15.99001846061547 [hp]\n"
     ]
    },
    {
     "data": {
      "image/png": "[encoded data removed]",
      "text/plain": [
       "<Figure size 432x288 with 1 Axes>"
      ]
     },
     "metadata": {
      "needs_background": "light"
     },
     "output_type": "display_data"
    }
   ],
   "source": [
    "from math import pi\n",
    "from scipy.optimize import fsolve\n",
    "import matplotlib.pyplot as plt\n",
    "\n",
    "\n",
    "#input data\n",
    "rho=760 #fluid density, kg/m3\n",
    "\n",
    "d1=6*0.0254 #diamter_suction, m\n",
    "d2=4*0.0254 #diamter_discharging, m\n",
    "\n",
    "z1=-2*0.3048 #height_suction, m \n",
    "z2=5*0.3048 #height_discharging, m\n",
    "\n",
    "p1=-10*3386.39 #gaugePressure_suction, Pa\n",
    "p2=20*6894.75729 #gaugePressure_discharging, Pa\n",
    "\n",
    "v_flow=2*0.0283168466 #volumeFlow, m3/s\n",
    "\n",
    "\n",
    "#calculations\n",
    "a1=(pi*d1**2)/4  #x section area, suction, m2\n",
    "v1=v_flow/a1 #velocity, suction, m/s\n",
    "\n",
    "a2=(pi*d2**2)/4 #x section area, discharging, m2\n",
    "v2=v_flow/a2 #x section area, discharge, m/s\n",
    "\n",
    "#energy function, losses ignored\n",
    "f=lambda e: p1/(rho*9.81)+z1+(v1**2)/(2*9.81)+e-p2/(rho*9.81)-(v2**2)/(2*9.81)-z2\n",
    "\n",
    "#head pump result, in m\n",
    "x=fsolve(f,0)[0]\n",
    "#pump shaft power converted to W\n",
    "p_pump=v_flow*790*9.81*x\n",
    "#pump pressure converted to hp\n",
    "p_pump_hp=p_pump/745.699872\n",
    "\n",
    "\n",
    "#printouts\n",
    "print('flow=',v_flow, '[m3/s]')\n",
    "print('pressure_1=', p1, '[Pa]')\n",
    "print('pressure_2=', p2, '[Pa]')\n",
    "\n",
    "print('z1=',z1, '[m]')\n",
    "print('z2=',z2, '[m]')\n",
    "print('a1=',a1, '[m2]')\n",
    "print('v1=',v1, '[m/s]')\n",
    "print('a2=',a2, '[m2]')\n",
    "print('v2=',v2, '[m/s]')\n",
    "\n",
    "print('equation result (check only)=',f(x))\n",
    "\n",
    "print('pump height required=', x, '[m]')\n",
    "print('pump shaft power=', p_pump, '[W]')\n",
    "\n",
    "print('pump shaft power=', p_pump_hp, '[hp]')\n",
    "\n",
    "e1=p1/(rho*9.81)+z1+(v1**2)/(2*9.81)\n",
    "h1=p1/(rho*9.81)+z1\n",
    "\n",
    "e2=p2/(rho*9.81)+z2+(v2**2)/(2*9.81)\n",
    "h2=p2/(rho*9.81)+z2\n",
    "\n",
    "plt.plot([e1,e1,e2,e2],label='energy line, m')\n",
    "plt.plot([h1,h1,h2,h2],label='hydraulic line, m')\n",
    "plt.ylabel('energy, in m')\n",
    "plt.legend()\n",
    "plt.grid()\n",
    "plt.show()"
   ]
  },
  {
   "cell_type": "code",
   "execution_count": null,
   "metadata": {},
   "outputs": [],
   "source": []
  }
 ],
 "metadata": {
  "kernelspec": {
   "display_name": "Python 3",
   "language": "python",
   "name": "python3"
  },
  "language_info": {
   "codemirror_mode": {
    "name": "ipython",
    "version": 3
   },
   "file_extension": ".py",
   "mimetype": "text/x-python",
   "name": "python",
   "nbconvert_exporter": "python",
   "pygments_lexer": "ipython3",
   "version": "3.8.5"
  }
 },
 "nbformat": 4,
 "nbformat_minor": 4
}
